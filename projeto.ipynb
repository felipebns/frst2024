{
 "cells": [
  {
   "cell_type": "code",
   "execution_count": 1,
   "metadata": {},
   "outputs": [],
   "source": [
    "import pandas as pd\n",
    "import numpy as np\n",
    "import matplotlib.pyplot as plt\n",
    "import ast"
   ]
  },
  {
   "cell_type": "code",
   "execution_count": 2,
   "metadata": {},
   "outputs": [],
   "source": [
    "df = pd.read_excel('dados_brutos.xlsx')"
   ]
  },
  {
   "cell_type": "code",
   "execution_count": 3,
   "metadata": {},
   "outputs": [
    {
     "data": {
      "text/plain": [
       "(2449, 13)"
      ]
     },
     "execution_count": 3,
     "metadata": {},
     "output_type": "execute_result"
    }
   ],
   "source": [
    "df.shape"
   ]
  },
  {
   "cell_type": "code",
   "execution_count": 4,
   "metadata": {},
   "outputs": [
    {
     "data": {
      "text/plain": [
       "Index(['Unnamed: 0', 'user', 'organization_id', 'org_name', 'org_size',\n",
       "       'area_name', 'position_name', 'day', 'path', 'path_actions',\n",
       "       'time_path', 'cookie', 'session'],\n",
       "      dtype='object')"
      ]
     },
     "execution_count": 4,
     "metadata": {},
     "output_type": "execute_result"
    }
   ],
   "source": [
    "df.columns"
   ]
  },
  {
   "cell_type": "code",
   "execution_count": 5,
   "metadata": {},
   "outputs": [],
   "source": [
    "# fig = plt.figure(figsize=(40,15))\n",
    "# plt.hist(df['position_name'])\n",
    "# plt.show()"
   ]
  },
  {
   "cell_type": "code",
   "execution_count": 6,
   "metadata": {},
   "outputs": [],
   "source": [
    "# df['org_name'].value_counts()"
   ]
  },
  {
   "cell_type": "code",
   "execution_count": 7,
   "metadata": {},
   "outputs": [],
   "source": [
    "#como pegar os itens unicos sem usar set!!!\n",
    "# user_unico = {}\n",
    "# for k,v in users.items():\n",
    "#     if v not in user_unico.keys():\n",
    "#         user_unico[v] = 1\n",
    "#     else:\n",
    "#         user_unico[v] += 1"
   ]
  },
  {
   "cell_type": "code",
   "execution_count": 8,
   "metadata": {},
   "outputs": [],
   "source": [
    "orgs = df['organization_id']\n",
    "users = df['user']\n",
    "org_u = set(orgs)\n",
    "dic_userPorOrg = {}\n",
    "for i,org in enumerate(org_u):\n",
    "    df_aux = df.loc[(df[\"organization_id\"] == org),:]\n",
    "    user_aux = df_aux[\"user\"]\n",
    "    dic_userPorOrg[org] = len(set(user_aux))\n"
   ]
  },
  {
   "cell_type": "code",
   "execution_count": 9,
   "metadata": {},
   "outputs": [
    {
     "data": {
      "text/plain": [
       "35"
      ]
     },
     "execution_count": 9,
     "metadata": {},
     "output_type": "execute_result"
    }
   ],
   "source": [
    "dic_userPorOrg['4adb5f9b-f50a-4957-a7e3-94c3452d877c']"
   ]
  },
  {
   "cell_type": "code",
   "execution_count": 10,
   "metadata": {},
   "outputs": [],
   "source": [
    "organizations = []\n",
    "n_users = []\n",
    "for k,v in dic_userPorOrg.items():\n",
    "    organizations.append(k)\n",
    "    n_users.append(v)\n",
    "\n",
    "df_userPorOrg = pd.DataFrame({\n",
    "    'organization_id': organizations,\n",
    "    'N_users': n_users\n",
    "})"
   ]
  },
  {
   "cell_type": "code",
   "execution_count": 11,
   "metadata": {},
   "outputs": [],
   "source": [
    "df_userPorOrg = df_userPorOrg.sort_values(ascending=False, by='N_users').reset_index(drop=True)"
   ]
  },
  {
   "cell_type": "code",
   "execution_count": 12,
   "metadata": {},
   "outputs": [
    {
     "data": {
      "text/html": [
       "<div>\n",
       "<style scoped>\n",
       "    .dataframe tbody tr th:only-of-type {\n",
       "        vertical-align: middle;\n",
       "    }\n",
       "\n",
       "    .dataframe tbody tr th {\n",
       "        vertical-align: top;\n",
       "    }\n",
       "\n",
       "    .dataframe thead th {\n",
       "        text-align: right;\n",
       "    }\n",
       "</style>\n",
       "<table border=\"1\" class=\"dataframe\">\n",
       "  <thead>\n",
       "    <tr style=\"text-align: right;\">\n",
       "      <th></th>\n",
       "      <th>organization_id</th>\n",
       "      <th>N_users</th>\n",
       "    </tr>\n",
       "  </thead>\n",
       "  <tbody>\n",
       "    <tr>\n",
       "      <th>0</th>\n",
       "      <td>4f3e63d2-43f8-4886-addc-9ce039eab5f1</td>\n",
       "      <td>53</td>\n",
       "    </tr>\n",
       "    <tr>\n",
       "      <th>1</th>\n",
       "      <td>4adb5f9b-f50a-4957-a7e3-94c3452d877c</td>\n",
       "      <td>35</td>\n",
       "    </tr>\n",
       "    <tr>\n",
       "      <th>2</th>\n",
       "      <td>c81fa8b0-52c0-4a31-abb7-6776a76cc9c8</td>\n",
       "      <td>27</td>\n",
       "    </tr>\n",
       "    <tr>\n",
       "      <th>3</th>\n",
       "      <td>d3400673-a5b2-4914-bf57-ce98dc710603</td>\n",
       "      <td>27</td>\n",
       "    </tr>\n",
       "    <tr>\n",
       "      <th>4</th>\n",
       "      <td>9e3e7a95-c6f5-4b6f-b189-8f33e45ee425</td>\n",
       "      <td>26</td>\n",
       "    </tr>\n",
       "    <tr>\n",
       "      <th>...</th>\n",
       "      <td>...</td>\n",
       "      <td>...</td>\n",
       "    </tr>\n",
       "    <tr>\n",
       "      <th>173</th>\n",
       "      <td>6ab67570-2467-46f5-8c69-aa0607d80598</td>\n",
       "      <td>1</td>\n",
       "    </tr>\n",
       "    <tr>\n",
       "      <th>174</th>\n",
       "      <td>89bdf2a2-6f66-4f57-8eb3-8e944263bd08</td>\n",
       "      <td>1</td>\n",
       "    </tr>\n",
       "    <tr>\n",
       "      <th>175</th>\n",
       "      <td>db47ba44-7171-4262-a244-a3d23b274551</td>\n",
       "      <td>1</td>\n",
       "    </tr>\n",
       "    <tr>\n",
       "      <th>176</th>\n",
       "      <td>8916bb5a-a71e-470e-8e42-b6cce176ce75</td>\n",
       "      <td>1</td>\n",
       "    </tr>\n",
       "    <tr>\n",
       "      <th>177</th>\n",
       "      <td>ed5fb87b-a1f6-427a-9d20-1294df424c10</td>\n",
       "      <td>1</td>\n",
       "    </tr>\n",
       "  </tbody>\n",
       "</table>\n",
       "<p>178 rows × 2 columns</p>\n",
       "</div>"
      ],
      "text/plain": [
       "                          organization_id  N_users\n",
       "0    4f3e63d2-43f8-4886-addc-9ce039eab5f1       53\n",
       "1    4adb5f9b-f50a-4957-a7e3-94c3452d877c       35\n",
       "2    c81fa8b0-52c0-4a31-abb7-6776a76cc9c8       27\n",
       "3    d3400673-a5b2-4914-bf57-ce98dc710603       27\n",
       "4    9e3e7a95-c6f5-4b6f-b189-8f33e45ee425       26\n",
       "..                                    ...      ...\n",
       "173  6ab67570-2467-46f5-8c69-aa0607d80598        1\n",
       "174  89bdf2a2-6f66-4f57-8eb3-8e944263bd08        1\n",
       "175  db47ba44-7171-4262-a244-a3d23b274551        1\n",
       "176  8916bb5a-a71e-470e-8e42-b6cce176ce75        1\n",
       "177  ed5fb87b-a1f6-427a-9d20-1294df424c10        1\n",
       "\n",
       "[178 rows x 2 columns]"
      ]
     },
     "execution_count": 12,
     "metadata": {},
     "output_type": "execute_result"
    }
   ],
   "source": [
    "df_userPorOrg"
   ]
  },
  {
   "cell_type": "code",
   "execution_count": 13,
   "metadata": {},
   "outputs": [],
   "source": [
    "dic_pathPorOrg = {}\n",
    "for columns,rows in df_userPorOrg.head(20).items():\n",
    "    if columns == 'organization_id':\n",
    "        for org in rows:\n",
    "            path_aux = df.loc[(df[\"organization_id\"] == org),([\"path_actions\"])]\n",
    "            paths_list = []\n",
    "            for paths in (path_aux.values):\n",
    "                lista = (ast.literal_eval(paths[0]))\n",
    "                for e in set(lista):\n",
    "                    paths_list.append(e)\n",
    "            dic_pathPorOrg[org] = (set(paths_list))"
   ]
  },
  {
   "cell_type": "code",
   "execution_count": 14,
   "metadata": {},
   "outputs": [],
   "source": [
    "organizations2 = []\n",
    "paths = []\n",
    "for k,v in dic_pathPorOrg.items():\n",
    "    organizations2.append(k)\n",
    "    paths.append(v)\n",
    "\n",
    "df_pathPorOrg = pd.DataFrame({\n",
    "    'organization_id': organizations2,\n",
    "    'Paths': paths\n",
    "})"
   ]
  },
  {
   "cell_type": "code",
   "execution_count": 15,
   "metadata": {},
   "outputs": [
    {
     "data": {
      "text/html": [
       "<div>\n",
       "<style scoped>\n",
       "    .dataframe tbody tr th:only-of-type {\n",
       "        vertical-align: middle;\n",
       "    }\n",
       "\n",
       "    .dataframe tbody tr th {\n",
       "        vertical-align: top;\n",
       "    }\n",
       "\n",
       "    .dataframe thead th {\n",
       "        text-align: right;\n",
       "    }\n",
       "</style>\n",
       "<table border=\"1\" class=\"dataframe\">\n",
       "  <thead>\n",
       "    <tr style=\"text-align: right;\">\n",
       "      <th></th>\n",
       "      <th>organization_id</th>\n",
       "      <th>Paths</th>\n",
       "    </tr>\n",
       "  </thead>\n",
       "  <tbody>\n",
       "    <tr>\n",
       "      <th>0</th>\n",
       "      <td>4f3e63d2-43f8-4886-addc-9ce039eab5f1</td>\n",
       "      <td>{handleOpenPrezziModalSRG-hall, ver canais-lxp...</td>\n",
       "    </tr>\n",
       "    <tr>\n",
       "      <th>1</th>\n",
       "      <td>4adb5f9b-f50a-4957-a7e3-94c3452d877c</td>\n",
       "      <td>{handleOpenPrezziModalSRG-hall, ver canais-lxp...</td>\n",
       "    </tr>\n",
       "    <tr>\n",
       "      <th>2</th>\n",
       "      <td>c81fa8b0-52c0-4a31-abb7-6776a76cc9c8</td>\n",
       "      <td>{handleOpenPrezziModalSRG-hall, ver canais-lxp...</td>\n",
       "    </tr>\n",
       "    <tr>\n",
       "      <th>3</th>\n",
       "      <td>d3400673-a5b2-4914-bf57-ce98dc710603</td>\n",
       "      <td>{handleOpenPrezziModalSRG-hall, ver canais-lxp...</td>\n",
       "    </tr>\n",
       "    <tr>\n",
       "      <th>4</th>\n",
       "      <td>9e3e7a95-c6f5-4b6f-b189-8f33e45ee425</td>\n",
       "      <td>{handleOpenPrezziModalSRG-hall, ver canais-lxp...</td>\n",
       "    </tr>\n",
       "    <tr>\n",
       "      <th>5</th>\n",
       "      <td>347ceb13-8656-4ed0-b080-c6cfb5528b25</td>\n",
       "      <td>{handleOpenPrezziModalSRG-hall, ver canais-lxp...</td>\n",
       "    </tr>\n",
       "    <tr>\n",
       "      <th>6</th>\n",
       "      <td>abba8235-15bd-4285-90b4-104e9308013e</td>\n",
       "      <td>{handleOpenPrezziModalSRG-hall, ver canais-lxp...</td>\n",
       "    </tr>\n",
       "    <tr>\n",
       "      <th>7</th>\n",
       "      <td>50ca2381-2d91-4d7e-8300-bb625d5cb97f</td>\n",
       "      <td>{handleOpenPrezziModalSRG-hall, ver canais-lxp...</td>\n",
       "    </tr>\n",
       "    <tr>\n",
       "      <th>8</th>\n",
       "      <td>6019ee26-09c3-422e-8c25-0abe878d1a73</td>\n",
       "      <td>{handleOpenPrezziModalSRG-hall, ver canais-lxp...</td>\n",
       "    </tr>\n",
       "    <tr>\n",
       "      <th>9</th>\n",
       "      <td>c8c88852-b101-4b47-aaca-4cee45368c9f</td>\n",
       "      <td>{handleOpenPrezziModalSRG-hall, ver canais-lxp...</td>\n",
       "    </tr>\n",
       "    <tr>\n",
       "      <th>10</th>\n",
       "      <td>071250db-e54d-4d3a-a179-d1546ba79c63</td>\n",
       "      <td>{handleOpenPrezziModalSRG-hall, acessar meus d...</td>\n",
       "    </tr>\n",
       "    <tr>\n",
       "      <th>11</th>\n",
       "      <td>e41e98b5-a36e-4028-b7a6-e534aef3f280</td>\n",
       "      <td>{handleOpenPrezziModalSRG-hall, ver canais-lxp...</td>\n",
       "    </tr>\n",
       "    <tr>\n",
       "      <th>12</th>\n",
       "      <td>0780e259-6a78-4fcd-b8f3-689cc21c7ecf</td>\n",
       "      <td>{handleOpenPrezziModalSRG-hall, ver canais-lxp...</td>\n",
       "    </tr>\n",
       "    <tr>\n",
       "      <th>13</th>\n",
       "      <td>c5b694a6-ecb4-427e-b517-b74e76b00861</td>\n",
       "      <td>{handleOpenPrezziModalSRG-hall, acessar meus d...</td>\n",
       "    </tr>\n",
       "    <tr>\n",
       "      <th>14</th>\n",
       "      <td>98f3a814-35d8-4bbe-8e1e-45796305b021</td>\n",
       "      <td>{handleOpenPrezziModalSRG-hall, ver canais-lxp...</td>\n",
       "    </tr>\n",
       "    <tr>\n",
       "      <th>15</th>\n",
       "      <td>f45c0788-7955-436a-a4a9-b400464ef36d</td>\n",
       "      <td>{handleOpenPrezziModalSRG-hall, ver canais-lxp...</td>\n",
       "    </tr>\n",
       "    <tr>\n",
       "      <th>16</th>\n",
       "      <td>6042fbe2-b932-40bf-8fe9-f0f7dc870a49</td>\n",
       "      <td>{handleOpenPrezziModalSRG-hall, ver canais-lxp...</td>\n",
       "    </tr>\n",
       "    <tr>\n",
       "      <th>17</th>\n",
       "      <td>1ef5051a-b5d5-4b85-bca6-93868a8a4b73</td>\n",
       "      <td>{handleOpenPrezziModalSRG-hall, ver canais-lxp...</td>\n",
       "    </tr>\n",
       "    <tr>\n",
       "      <th>18</th>\n",
       "      <td>cbdf1fac-5e6a-4d10-9aae-570fda653d2a</td>\n",
       "      <td>{handleOpenPrezziModalSRG-hall, ver canais-lxp...</td>\n",
       "    </tr>\n",
       "    <tr>\n",
       "      <th>19</th>\n",
       "      <td>7da5a3d1-5507-4619-b494-613641b6fa82</td>\n",
       "      <td>{handleOpenPrezziModalSRG-hall, acessar meus d...</td>\n",
       "    </tr>\n",
       "  </tbody>\n",
       "</table>\n",
       "</div>"
      ],
      "text/plain": [
       "                         organization_id  \\\n",
       "0   4f3e63d2-43f8-4886-addc-9ce039eab5f1   \n",
       "1   4adb5f9b-f50a-4957-a7e3-94c3452d877c   \n",
       "2   c81fa8b0-52c0-4a31-abb7-6776a76cc9c8   \n",
       "3   d3400673-a5b2-4914-bf57-ce98dc710603   \n",
       "4   9e3e7a95-c6f5-4b6f-b189-8f33e45ee425   \n",
       "5   347ceb13-8656-4ed0-b080-c6cfb5528b25   \n",
       "6   abba8235-15bd-4285-90b4-104e9308013e   \n",
       "7   50ca2381-2d91-4d7e-8300-bb625d5cb97f   \n",
       "8   6019ee26-09c3-422e-8c25-0abe878d1a73   \n",
       "9   c8c88852-b101-4b47-aaca-4cee45368c9f   \n",
       "10  071250db-e54d-4d3a-a179-d1546ba79c63   \n",
       "11  e41e98b5-a36e-4028-b7a6-e534aef3f280   \n",
       "12  0780e259-6a78-4fcd-b8f3-689cc21c7ecf   \n",
       "13  c5b694a6-ecb4-427e-b517-b74e76b00861   \n",
       "14  98f3a814-35d8-4bbe-8e1e-45796305b021   \n",
       "15  f45c0788-7955-436a-a4a9-b400464ef36d   \n",
       "16  6042fbe2-b932-40bf-8fe9-f0f7dc870a49   \n",
       "17  1ef5051a-b5d5-4b85-bca6-93868a8a4b73   \n",
       "18  cbdf1fac-5e6a-4d10-9aae-570fda653d2a   \n",
       "19  7da5a3d1-5507-4619-b494-613641b6fa82   \n",
       "\n",
       "                                                Paths  \n",
       "0   {handleOpenPrezziModalSRG-hall, ver canais-lxp...  \n",
       "1   {handleOpenPrezziModalSRG-hall, ver canais-lxp...  \n",
       "2   {handleOpenPrezziModalSRG-hall, ver canais-lxp...  \n",
       "3   {handleOpenPrezziModalSRG-hall, ver canais-lxp...  \n",
       "4   {handleOpenPrezziModalSRG-hall, ver canais-lxp...  \n",
       "5   {handleOpenPrezziModalSRG-hall, ver canais-lxp...  \n",
       "6   {handleOpenPrezziModalSRG-hall, ver canais-lxp...  \n",
       "7   {handleOpenPrezziModalSRG-hall, ver canais-lxp...  \n",
       "8   {handleOpenPrezziModalSRG-hall, ver canais-lxp...  \n",
       "9   {handleOpenPrezziModalSRG-hall, ver canais-lxp...  \n",
       "10  {handleOpenPrezziModalSRG-hall, acessar meus d...  \n",
       "11  {handleOpenPrezziModalSRG-hall, ver canais-lxp...  \n",
       "12  {handleOpenPrezziModalSRG-hall, ver canais-lxp...  \n",
       "13  {handleOpenPrezziModalSRG-hall, acessar meus d...  \n",
       "14  {handleOpenPrezziModalSRG-hall, ver canais-lxp...  \n",
       "15  {handleOpenPrezziModalSRG-hall, ver canais-lxp...  \n",
       "16  {handleOpenPrezziModalSRG-hall, ver canais-lxp...  \n",
       "17  {handleOpenPrezziModalSRG-hall, ver canais-lxp...  \n",
       "18  {handleOpenPrezziModalSRG-hall, ver canais-lxp...  \n",
       "19  {handleOpenPrezziModalSRG-hall, acessar meus d...  "
      ]
     },
     "execution_count": 15,
     "metadata": {},
     "output_type": "execute_result"
    }
   ],
   "source": [
    "df_pathPorOrg"
   ]
  }
 ],
 "metadata": {
  "kernelspec": {
   "display_name": "base",
   "language": "python",
   "name": "python3"
  },
  "language_info": {
   "codemirror_mode": {
    "name": "ipython",
    "version": 3
   },
   "file_extension": ".py",
   "mimetype": "text/x-python",
   "name": "python",
   "nbconvert_exporter": "python",
   "pygments_lexer": "ipython3",
   "version": "3.9.13"
  }
 },
 "nbformat": 4,
 "nbformat_minor": 2
}
